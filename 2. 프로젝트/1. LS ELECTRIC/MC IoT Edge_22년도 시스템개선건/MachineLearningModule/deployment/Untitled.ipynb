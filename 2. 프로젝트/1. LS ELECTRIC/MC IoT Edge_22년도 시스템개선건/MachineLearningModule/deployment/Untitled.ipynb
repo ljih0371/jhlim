{
 "cells": [
  {
   "cell_type": "code",
   "execution_count": null,
   "id": "virtual-intellectual",
   "metadata": {},
   "outputs": [],
   "source": [
    "# Check core SDK version number\n",
    "import azureml.core\n",
    "import os\n",
    "\n",
    "print(\"SDK version:\", azureml.core.VERSION)"
   ]
  },
  {
   "cell_type": "code",
   "execution_count": null,
   "id": "catholic-favor",
   "metadata": {},
   "outputs": [],
   "source": [
    "2. 모델 등록"
   ]
  },
  {
   "cell_type": "markdown",
   "id": "twenty-primary",
   "metadata": {},
   "source": [
    "model_version = \"03_051_01\"\n",
    "file_name = '{}.pickle'.format(model_version)\n",
    "print(file_name)"
   ]
  },
  {
   "cell_type": "code",
   "execution_count": null,
   "id": "danish-shakespeare",
   "metadata": {},
   "outputs": [],
   "source": [
    "from azureml.core.model import Model\n",
    "\n",
    "#library_version = \"DL\"+sklearn.__version__.replace(\".\",\"x\")\n",
    "model = Model.register(model_path = \"data/pkl/{}\".format(file_name),\n",
    "                       model_name = model_version,\n",
    "                       tags = {'area': \"IoT Edge\", 'type': \"azureml-automl\"},\n",
    "                       description = \"ML=03_051_01, Sys=04.01.00\",\n",
    "                       workspace = ws)"
   ]
  },
  {
   "cell_type": "code",
   "execution_count": null,
   "id": "stunning-butterfly",
   "metadata": {},
   "outputs": [],
   "source": [
    "from azureml.core.model import Model\n",
    "model = Model.get_model_path(model_version, _workspace=ws)\n",
    "model"
   ]
  },
  {
   "cell_type": "code",
   "execution_count": null,
   "id": "premium-swimming",
   "metadata": {},
   "outputs": [],
   "source": [
    "pip_packages = [\"azureml-defaults\",\n",
    "                \"azureml==0.2.7\",\n",
    "                \"azureml-core==1.24.0\",\n",
    "                \"azureml-sdk==1.24.0\",\n",
    "                \"azureml-automl-core==1.24.0\",\n",
    "                \"azureml-automl-runtime==1.24.0\",\n",
    "                \"azure-storage-blob==12.6.0\",\n",
    "                \"numpy==1.18.5\",\n",
    "                \"pandas==0.25.3\",\n",
    "                \"sqlalchemy==1.3.21\",\n",
    "                \"h5py==2.10.0\",\n",
    "                \"tqdm==4.54.0\",\n",
    "                \"obspy==1.2.2\",\n",
    "                \"mysql-connector-python==8.0.18\",\n",
    "                \"joblib==0.14.1\",\n",
    "                \"packaging==20.7\",\n",
    "                \"xgboost==0.90\",\n",
    "                \"noisereduce==1.1.0\"]\n",
    "\n",
    "lib_config_load = ['pyyaml']\n",
    "lib_clfs = [\"gxx_linux-64\",\n",
    "            \"gcc_linux-64\",\n",
    "            \"librosa==0.8.0\"]\n",
    "#lib_clfs = ['tensorflow==1.1']\n",
    "conda_packages = lib_clfs + lib_config_load\n",
    "\n",
    "print('pip packages:', pip_packages)\n",
    "print('conda packasges:', conda_packages)"
   ]
  },
  {
   "cell_type": "code",
   "execution_count": null,
   "id": "received-artist",
   "metadata": {},
   "outputs": [],
   "source": [
    "from azureml.core.conda_dependencies import CondaDependencies \n",
    "from azureml.core import Environment\n",
    "\n",
    "conda_deps  = CondaDependencies.create(conda_packages=conda_packages, pip_packages=pip_packages)\n",
    "conda_deps.add_channel('conda-forge')\n",
    "conda_deps.add_channel('defaults')\n",
    "\n",
    "myenv = Environment(name='myenv')\n",
    "myenv.python.conda_dependencies = conda_deps\n",
    "\n",
    "# myenv.docker.base_image = 'mcr.microsoft.com/azureml/intelmpi2018.3-ubuntu16.04'\n",
    "\n",
    "\n",
    "#myenv.docker.base_image = 'mcr.microsoft.com/azureml/base:intelmpi2018.3-ubuntu16.04'\n",
    "# myenv.docker.base_image = 'mcr.microsoft.com/azureml/base:openmpi3.1.2-ubuntu18.04'\n",
    "\n",
    "\n",
    "# with open(\"data/myenv.yml\",\"w\") as f:\n",
    "#     f.write(myenv.serialize_to_string())"
   ]
  },
  {
   "cell_type": "code",
   "execution_count": null,
   "id": "painted-radius",
   "metadata": {},
   "outputs": [],
   "source": [
    "from azureml.core.model import InferenceConfig\n",
    "\n",
    "inference_config = InferenceConfig(entry_script=\"score_iot.py\", environment=myenv, source_directory=\"../src\")\n",
    "package_service = Model.package(workspace=ws,\n",
    "                                models=[model],\n",
    "                                image_name=\"mc-mlmodule\",\n",
    "                                image_label='30',\n",
    "                                inference_config=inference_config)"
   ]
  },
  {
   "cell_type": "code",
   "execution_count": null,
   "id": "together-schema",
   "metadata": {},
   "outputs": [],
   "source": [
    "package_service.wait_for_creation(show_output=True)"
   ]
  }
 ],
 "metadata": {
  "kernelspec": {
   "display_name": "Python 3",
   "language": "python",
   "name": "python3"
  },
  "language_info": {
   "codemirror_mode": {
    "name": "ipython",
    "version": 3
   },
   "file_extension": ".py",
   "mimetype": "text/x-python",
   "name": "python",
   "nbconvert_exporter": "python",
   "pygments_lexer": "ipython3",
   "version": "3.8.8"
  }
 },
 "nbformat": 4,
 "nbformat_minor": 5
}
